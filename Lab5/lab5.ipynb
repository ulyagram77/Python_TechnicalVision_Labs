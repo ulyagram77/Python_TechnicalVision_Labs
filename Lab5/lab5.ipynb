{
 "cells": [
  {
   "cell_type": "code",
   "execution_count": null,
   "metadata": {},
   "outputs": [],
   "source": [
    "# імпорт бібліотек\n",
    "import os\n",
    "from tkinter import filedialog\n",
    "import cv2\n",
    "import matplotlib.pyplot as plt\n",
    "import numpy as np"
   ]
  },
  {
   "cell_type": "markdown",
   "metadata": {},
   "source": [
    "## Теоретична довідка"
   ]
  },
  {
   "cell_type": "markdown",
   "metadata": {},
   "source": [
    "> В даний час зріс інтерес до різних методів ідентифікації осіб. Длявирішення\n",
    "цього завдання необхідно виконати два етапи: виявити особа на фотографії,\n",
    "виділити і розпізнати його.\n",
    "При всьому різноманітті різних алгоритмів і методів розпізнавання\n",
    "зображень, типовий метод розпізнавання складається з трьох компонентів:\n",
    "\n",
    "- перетворення вихідного зображення в початкове уявлення (може\n",
    "включати в себе як попередню обробку, так і математичні перетворення,\n",
    "наприклад обчислення головних компонент);\n",
    "- виділення ключових характеристик (наприклад береться першіn головних\n",
    "компонент або коефіцієнтів дискретного косинусного перетворення);\n",
    "- механізм класифікації (моделювання): кластерна модель, метрика,\n",
    "нейронна мережа тощо.\n",
    "\n",
    "> Крім цього, побудова методу розпізнавання спирається на апріорну\n",
    "інформацію про предметну область (в даному випадку - характеристики особи\n",
    "людини), і коригується експериментальної інформацією, що з'являється по ходу\n",
    "розробки методу."
   ]
  },
  {
   "cell_type": "markdown",
   "metadata": {},
   "source": [
    "## Допоміжні функції для роботи з картинками"
   ]
  },
  {
   "cell_type": "code",
   "execution_count": null,
   "metadata": {},
   "outputs": [],
   "source": [
    "def show_image(img, title=None):\n",
    "    \"\"\"\n",
    "    Відображує зображення у matplotlib у сірому відтінку.\n",
    "\n",
    "    Parameters:\n",
    "    - `img (numpy.ndarray)`: Зображення у форматі NumPy ndarray.\n",
    "    - `title (str, optional)`: Заголовок для відображення. За замовчуванням - None.\n",
    "\n",
    "    Returns:\n",
    "    - `None`\n",
    "    \"\"\"\n",
    "    plt.imshow(img,cmap='gray')\n",
    "    plt.title(title)\n",
    "    plt.show()\n",
    "    \n",
    "def load_image():\n",
    "    \"\"\"\n",
    "    Функція зчитування зображення.\n",
    "\n",
    "    Returns:\n",
    "    - `numpy.ndarray or None`: Зображення у форматі NumPy ndarray або None, якщо завантаження не вдалося.\n",
    "    \"\"\"\n",
    "    file_path = filedialog.askopenfilename()\n",
    "\n",
    "    if not file_path:\n",
    "        return None\n",
    "    if not os.path.isfile(file_path):\n",
    "        return None\n",
    "\n",
    "    # Завантажуємо кольорове зображення\n",
    "    return cv2.imread(file_path)"
   ]
  },
  {
   "cell_type": "markdown",
   "metadata": {},
   "source": [
    "## `Завдання 1`. <span style=\"color:lightblue\">Розпізнавання обличчя на картинці.</span>"
   ]
  },
  {
   "cell_type": "markdown",
   "metadata": {},
   "source": [
    ">Завантаження класифікатора каскаду для виявлення облич"
   ]
  },
  {
   "cell_type": "code",
   "execution_count": null,
   "metadata": {},
   "outputs": [],
   "source": [
    "\n",
    "face_cascade_db = cv2.CascadeClassifier(\n",
    "    cv2.data.haarcascades + \"haarcascade_frontalface_default.xml\"\n",
    ")"
   ]
  },
  {
   "cell_type": "markdown",
   "metadata": {},
   "source": [
    ">зчитування картинки"
   ]
  },
  {
   "cell_type": "code",
   "execution_count": null,
   "metadata": {},
   "outputs": [],
   "source": [
    "img = load_image()\n",
    "img_gray = cv2.cvtColor(img, cv2.COLOR_BGR2GRAY)"
   ]
  },
  {
   "cell_type": "code",
   "execution_count": null,
   "metadata": {},
   "outputs": [],
   "source": [
    "show_image(img_gray, \"Завантажене фото обличчя\")\n",
    "cv2.waitKey(0)\n",
    "cv2.destroyAllWindows()"
   ]
  },
  {
   "cell_type": "markdown",
   "metadata": {},
   "source": [
    "> фото з відміченням знайденого обличчя\n",
    "> тут в залежності від параметрів **`scaleFactor = 1.1, minNeighbors = 19`** буде змінюватися якість пошуку обличчя"
   ]
  },
  {
   "cell_type": "code",
   "execution_count": null,
   "metadata": {},
   "outputs": [],
   "source": [
    "faces = face_cascade_db.detectMultiScale(img_gray, 1.1, 19)\n",
    "\n",
    "# Намальовування прямокутників навколо виявлених облич на кольоровому зображенні\n",
    "for x, y, w, h in faces:\n",
    "    cv2.rectangle(img, (x, y), (x + w, y + h), (0, 255, 0), 2)\n",
    "\n",
    "# Відображення кольорового зображення з прямокутниками навколо облич\n",
    "cv2.imshow(\"Detected Faces\", img)\n",
    "\n",
    "# Очікування натискання клавіші\n",
    "cv2.waitKey(0)\n",
    "\n",
    "# Закриття вікна\n",
    "cv2.destroyAllWindows()"
   ]
  },
  {
   "cell_type": "markdown",
   "metadata": {},
   "source": [
    "## `Завдання 2`. <span style=\"color:lightblue\">Розпізнавання обличчя на відео.</span>\n"
   ]
  },
  {
   "cell_type": "markdown",
   "metadata": {},
   "source": [
    "> вмикаємо зчитування з камери"
   ]
  },
  {
   "cell_type": "code",
   "execution_count": null,
   "metadata": {},
   "outputs": [],
   "source": [
    "cap = cv2.VideoCapture(0)"
   ]
  },
  {
   "cell_type": "markdown",
   "metadata": {},
   "source": [
    "> нескінчений цикл для зчитування кадрів з відеокамери та у ньому працює цикл котрий буде прямокутники які показиватимуть знайдені обличчя"
   ]
  },
  {
   "cell_type": "code",
   "execution_count": null,
   "metadata": {},
   "outputs": [],
   "source": [
    "while True:\n",
    "    # Зчитування кадру з відеокамери\n",
    "    success, video_img = cap.read()\n",
    "\n",
    "    # Перетворення кадру в відтінки сірого\n",
    "    img_video_gray = cv2.cvtColor(video_img, cv2.COLOR_BGR2GRAY)\n",
    "\n",
    "    # Виявлення обличчів на кадрі\n",
    "    faces = face_cascade_db.detectMultiScale(img_video_gray, scaleFactor=1.1, minNeighbors=19)\n",
    "\n",
    "    # Намалювання прямокутників навколо виявлених облич\n",
    "    for x, y, w, h in faces:\n",
    "        cv2.rectangle(video_img, (x, y), (x + w, y + h), (0, 255, 0), 2)\n",
    "\n",
    "    # Відображення зображення з прямокутниками навколо облич у вікні\n",
    "    cv2.imshow(\"Detected Faces\", video_img)\n",
    "\n",
    "    # Умова виходу з циклу при натисканні клавіші 'q'\n",
    "    if cv2.waitKey(1) & 0xFF == ord(\"q\"):\n",
    "        # Закриття вікон OpenCV та виход з циклу\n",
    "        cv2.destroyAllWindows()\n",
    "        break"
   ]
  },
  {
   "cell_type": "markdown",
   "metadata": {},
   "source": [
    "> вивмикаємо камеру після завершення роботи"
   ]
  },
  {
   "cell_type": "code",
   "execution_count": null,
   "metadata": {},
   "outputs": [],
   "source": [
    "cap.release()"
   ]
  }
 ],
 "metadata": {
  "kernelspec": {
   "display_name": "python-technicalvision-labs-XHQBv0MF-py3.11",
   "language": "python",
   "name": "python3"
  },
  "language_info": {
   "codemirror_mode": {
    "name": "ipython",
    "version": 3
   },
   "file_extension": ".py",
   "mimetype": "text/x-python",
   "name": "python",
   "nbconvert_exporter": "python",
   "pygments_lexer": "ipython3",
   "version": "3.11.5"
  },
  "orig_nbformat": 4
 },
 "nbformat": 4,
 "nbformat_minor": 2
}
