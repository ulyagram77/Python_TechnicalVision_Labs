{
 "cells": [
  {
   "cell_type": "code",
   "execution_count": 24,
   "metadata": {},
   "outputs": [],
   "source": [
    "# імпорт бібліотек\n",
    "import cv2\n",
    "import dlib\n",
    "from ultralytics import YOLO\n",
    "import os\n",
    "from tkinter import filedialog"
   ]
  },
  {
   "cell_type": "markdown",
   "metadata": {},
   "source": [
    "## Допоміжні функції "
   ]
  },
  {
   "cell_type": "code",
   "execution_count": 25,
   "metadata": {},
   "outputs": [],
   "source": [
    "def detected_object(conf, box, class_name):\n",
    "    \"\"\"\n",
    "    Створює словник із параметрами виявленого об'єкта.\n",
    "\n",
    "    Параметри:\n",
    "    - `conf`: Достовірність виявлення об'єкта.\n",
    "    - `box`: Координати прямокутника, що обмежує об'єкт (x1, y1, x2, y2).\n",
    "    - `class_name`: Назва класу об'єкта.\n",
    "\n",
    "    Повертає:\n",
    "    - `Словник із параметрами виявленого об'єкта`, який містить 'conf' (достовірність), 'box' (координати прямокутника), та 'class' (назва класу).\n",
    "    \"\"\"\n",
    "    x1, y1, x2, y2 = map(int, box)\n",
    "    return {'conf': conf, 'box': [x1, y1, x2, y2], 'class': class_name}"
   ]
  },
  {
   "cell_type": "markdown",
   "metadata": {},
   "source": [
    "### <span style=\"color:lightblue\">Аналіз тестового відео та об'єктів на ньому</span>"
   ]
  },
  {
   "cell_type": "code",
   "execution_count": 26,
   "metadata": {},
   "outputs": [
    {
     "name": "stdout",
     "output_type": "stream",
     "text": [
      "\n",
      "0: 384x640 3 persons, 8 cars, 1 truck, 47.5ms\n",
      "Speed: 1.8ms preprocess, 47.5ms inference, 2.3ms postprocess per image at shape (1, 3, 384, 640)\n"
     ]
    }
   ],
   "source": [
    "# Загрузка модели YOLO\n",
    "model = YOLO('yolov5su.pt')\n",
    "\n",
    "# Открытие видеофайла\n",
    "video = cv2.VideoCapture('./test_videos/cars2.mp4')\n",
    "\n",
    "# Инициализация списка для хранения обнаруженных объектов и чтение первого кадра\n",
    "detected_objects = []\n",
    "success, frame = video.read()\n",
    "\n",
    "# Получение детекций от модели YOLO\n",
    "detections = model(frame)\n",
    "\n",
    "# Обработка детекций и сохранение информации об объектах\n",
    "for detection in detections:\n",
    "    for box in detection.boxes:\n",
    "        cls = int(box.cls[0])\n",
    "        class_name = model.names[cls]\n",
    "        if cls == 2:\n",
    "            conf = box.conf[0]\n",
    "            detected_objects.append(detected_object(conf, box.xyxy[0], class_name))\n",
    "\n",
    "# Выбор объектов с наивысшей и наименьшей уверенностью            \n",
    "high_conf_object = max(detected_objects, key=lambda obj: obj['conf'])\n",
    "low_conf_object = min(detected_objects, key=lambda obj: obj['conf'])\n",
    "\n",
    "video.release()\n"
   ]
  },
  {
   "cell_type": "markdown",
   "metadata": {},
   "source": [
    "### <span style=\"color:lightblue\">Вивід нового відео з відображенням двох найбільш та найменш опознаних об'єктів</span>"
   ]
  },
  {
   "cell_type": "code",
   "execution_count": 27,
   "metadata": {},
   "outputs": [],
   "source": [
    "# Инициализация трекеров\n",
    "tracker_high = dlib.correlation_tracker()\n",
    "tracker_low = dlib.correlation_tracker()\n",
    "\n",
    "# Получение начальных координат боксов для трекинга\n",
    "high_box = high_conf_object['box']\n",
    "low_box = low_conf_object['box']\n",
    "\n",
    "# Старт трекинга\n",
    "tracker_high.start_track(frame, dlib.rectangle(*high_box))\n",
    "tracker_low.start_track(frame, dlib.rectangle(*low_box))\n",
    "\n",
    "# новый объект видео для второго цикла обработки кадров\n",
    "video = cv2.VideoCapture('./test_videos/cars2.mp4')\n",
    "width = int(video.get(cv2.CAP_PROP_FRAME_WIDTH))\n",
    "height = int(video.get(cv2.CAP_PROP_FRAME_HEIGHT))\n",
    "fps = int(video.get(cv2.CAP_PROP_FPS))\n",
    "\n",
    "fourcc = cv2.VideoWriter_fourcc(*'mp4v')\n",
    "out = cv2.VideoWriter('./result_videos/output.mp4', fourcc, fps, (width, height))"
   ]
  },
  {
   "cell_type": "code",
   "execution_count": 28,
   "metadata": {},
   "outputs": [],
   "source": [
    "# success и frame из второго цикла\n",
    "while success:\n",
    "    tracker_high.update(frame)\n",
    "    tracker_low.update(frame)\n",
    "    pos_high = tracker_high.get_position()\n",
    "    pos_low = tracker_low.get_position()\n",
    "\n",
    "    class_high = high_conf_object['class']\n",
    "    class_low = low_conf_object['class']\n",
    "\n",
    "    cv2.rectangle(frame, (int(pos_high.left()), int(pos_high.top())), (int(pos_high.right()), int(pos_high.bottom())), (0, 255, 0), 3)\n",
    "    cv2.rectangle(frame, (int(pos_low.left()), int(pos_low.top())), (int(pos_low.right()), int(pos_low.bottom())), (0, 238, 255), 3)\n",
    "\n",
    "    # текст к квадратам\n",
    "    cv2.putText(frame, f'{class_high} {high_conf_object[\"conf\"]:.2f}', (int(pos_high.left()), int(pos_high.top()) - 10),\n",
    "                cv2.FONT_HERSHEY_SIMPLEX, 0.5, (0, 255, 0), 2)\n",
    "    cv2.putText(frame, f'{class_low} {low_conf_object[\"conf\"]:.2f}', (int(pos_low.left()), int(pos_low.top()) - 10),\n",
    "                cv2.FONT_HERSHEY_SIMPLEX, 0.5, (0, 238, 255), 2)\n",
    "\n",
    "    out.write(frame)\n",
    "\n",
    "    success, frame = video.read()\n",
    "\n",
    "video.release()\n",
    "out.release()"
   ]
  }
 ],
 "metadata": {
  "kernelspec": {
   "display_name": "python-technicalvision-labs-XHQBv0MF-py3.11",
   "language": "python",
   "name": "python3"
  },
  "language_info": {
   "codemirror_mode": {
    "name": "ipython",
    "version": 3
   },
   "file_extension": ".py",
   "mimetype": "text/x-python",
   "name": "python",
   "nbconvert_exporter": "python",
   "pygments_lexer": "ipython3",
   "version": "3.11.5"
  },
  "orig_nbformat": 4
 },
 "nbformat": 4,
 "nbformat_minor": 2
}
