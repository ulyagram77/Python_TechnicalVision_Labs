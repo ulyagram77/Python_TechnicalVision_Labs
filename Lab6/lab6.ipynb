{
 "cells": [
  {
   "cell_type": "code",
   "execution_count": 2,
   "metadata": {},
   "outputs": [],
   "source": [
    "# імпорт бібліотек\n",
    "import matplotlib.pyplot as plt\n",
    "import cv2\n",
    "import os\n",
    "from matplotlib.image import imread\n",
    "import numpy as np\n",
    "from sklearn.decomposition import PCA\n",
    "from sklearn.ensemble import RandomForestClassifier\n",
    "from sklearn.svm import SVC\n",
    "from sklearn.neural_network import MLPClassifier\n",
    "from sklearn.metrics import accuracy_score, precision_score, recall_score\n",
    "from tensorflow.keras.preprocessing import image_dataset_from_directory\n",
    "import dlib\n"
   ]
  },
  {
   "cell_type": "markdown",
   "metadata": {},
   "source": [
    "## Глобальні змінні"
   ]
  },
  {
   "cell_type": "code",
   "execution_count": 9,
   "metadata": {},
   "outputs": [],
   "source": [
    "# директорія сирих картинки без обрізки\n",
    "input_folder_path = \"./raw_dataset\"\n",
    "\n",
    "# директорії картинок для різних завдань\n",
    "output_folder_path = \"./cutted_dataset\"\n",
    "output_folder_path_hog = \"./cutted_dataset_hog\"\n",
    "output_folder_path_hog_eyes = \"./finded_eyes_hog\"\n",
    "output_folder_smiles_path = \"./finded_smiles\"\n",
    "\n",
    "# Загрузка каскада Хаара для обнаружения облич\n",
    "face_cascade = cv2.CascadeClassifier(\n",
    "    cv2.data.haarcascades + \"haarcascade_frontalface_default.xml\"\n",
    ")\n",
    "\n",
    "# Загрузка каскада Хаара для обнаружения усмішок\n",
    "smile_cascade = cv2.CascadeClassifier(\n",
    "    cv2.data.haarcascades + \"haarcascade_smile.xml\"\n",
    ")\n",
    "\n",
    "# ініціалізація моделі hog\n",
    "hog_face_detector = dlib.get_frontal_face_detector()\n",
    "# ініціалізація моделі для пошуку очей\n",
    "predictor = dlib.shape_predictor('shape_predictor_68_face_landmarks.dat')"
   ]
  },
  {
   "cell_type": "markdown",
   "metadata": {},
   "source": [
    "## Допоміжні функції "
   ]
  },
  {
   "cell_type": "code",
   "execution_count": 4,
   "metadata": {},
   "outputs": [],
   "source": [
    "def extract_data_from_dataset(dataset):\n",
    "    \"\"\"\n",
    "    Функція для витягування зображень та міток з датасету.\n",
    "\n",
    "    Параметри:\n",
    "    - `dataset:` TensorFlow датасет, який містить пари (зображення, мітка).\n",
    "\n",
    "    Повертає:\n",
    "    - x: `Масив NumPy`, що містить зображення.\n",
    "    - y: `Масив NumPy`, що містить мітки.\n",
    "    \"\"\"\n",
    "    x_data = []\n",
    "    y_data = []\n",
    "\n",
    "    for images, labels in dataset:\n",
    "        x_data.append(images.numpy())\n",
    "        y_data.append(labels.numpy())\n",
    "\n",
    "    x_data = np.concatenate(x_data)\n",
    "    y_data = np.concatenate(y_data)\n",
    "\n",
    "    return x_data, y_data\n",
    "\n",
    "def apply_pca_to_images(images, n_components=100):\n",
    "    \"\"\"\n",
    "    Функція для застосування методу головних компонентів до зображень.\n",
    "\n",
    "    Параметри:\n",
    "    - `images`: Масив NumPy, який містить зображення (форма: (кількість_зразків, розмір_зображення_1, розмір_зображення_2, кількість_каналів)).\n",
    "    - `n_components`: Кількість головних компонент.\n",
    "\n",
    "    Повертає:\n",
    "    - `metric_pca`: Масив NumPy, що містить зображення у просторі головних компонент.\n",
    "    \"\"\"\n",
    "    # Змінення форми images в (кількість_зразків, кількість_ознак)\n",
    "    metric_reshaped = images.reshape(images.shape[0], -1)\n",
    "\n",
    "    # Ініціалізація PCA та виконання PCA\n",
    "    pca = PCA(n_components=n_components)\n",
    "    metric_pca = pca.fit_transform(metric_reshaped)\n",
    "\n",
    "    return metric_pca\n",
    "\n",
    "def crop_faces(image_path, output_path):\n",
    "    \"\"\"\n",
    "    Обрізає обличчя на зображенні та зберігає його.\n",
    "\n",
    "    Параметри:\n",
    "    - `image_path`: Шлях до вхідного зображення.\n",
    "    - `output_path`: Шлях для зберігання обрізаного обличчя.\n",
    "\n",
    "    Повертає:\n",
    "    - `Відсутнє` (зображення зберігається у вказаному вихідному шляху).\n",
    "    \"\"\"\n",
    "    # Чтение изображения\n",
    "    img = cv2.imread(image_path)\n",
    "    # Преобразование в градации серого\n",
    "    gray = cv2.cvtColor(img, cv2.COLOR_BGR2GRAY)\n",
    "\n",
    "    # Обнаружение лиц на изображении\n",
    "    faces = face_cascade.detectMultiScale(gray, scaleFactor=1.8, minNeighbors=10)\n",
    "\n",
    "    for (x, y, w, h) in faces:\n",
    "        # Обрезка изображения по координатам лица\n",
    "        face = img[y:y+h, x:x+w]\n",
    "        # Сохранение обрезанного изображения в той же подпапке\n",
    "        output_file = os.path.join(output_path, os.path.basename(image_path))\n",
    "        cv2.imwrite(output_file, face)    \n",
    "            \n",
    "def crop_faces_hog(image_path, output_path):\n",
    "    \"\"\"\n",
    "    Обрізає обличчя за допомогою HOG-детектора та зберігає його.\n",
    "\n",
    "    Параметри:\n",
    "    - `image_path`: Шлях до вхідного зображення.\n",
    "    - `output_path`: Шлях для зберігання обрізаного обличчя.\n",
    "\n",
    "    Повертає:\n",
    "    -`Відсутнє` (зображення обличчя зберігається у вказаному вихідному шляху).\n",
    "    \"\"\"\n",
    "    # Чтение изображения\n",
    "    img = cv2.imread(image_path)\n",
    "    # Преобразование в градации серого\n",
    "    img_rgb = cv2.cvtColor(img, cv2.COLOR_BGR2RGB);\n",
    "\n",
    "    # Обнаружение лиц на изображении\n",
    "    faces = hog_face_detector(img_rgb)\n",
    "\n",
    "    if faces:\n",
    "        for i, face in enumerate(faces):\n",
    "            x, y, w, h = face.left(), face.top(), face.width(), face.height()\n",
    "\n",
    "            if 0 <= x < img.shape[1] and 0 <= y < img.shape[0] and 0 <= x + w < img.shape[1] and 0 <= y + h < img.shape[0]:\n",
    "                face_image = img_rgb[y:y+h, x:x+w]\n",
    "                output_file = os.path.join(output_path, os.path.basename(image_path))   \n",
    "                cv2.imwrite(output_file, cv2.cvtColor(face_image, cv2.COLOR_RGB2BGR))\n",
    "                                        \n",
    "def find_eyes_hog(image_path, output_path):\n",
    "    \"\"\"\n",
    "    Знаходить координати очей на зображенні за допомогою HOG-детектора та зберігає з ними прямокутники.\n",
    "\n",
    "    Параметри:\n",
    "    - `image_path`: Шлях до вхідного зображення.\n",
    "    - `output_path`: Шлях для зберігання зображення з нанесеними прямокутниками навколо очей.\n",
    "\n",
    "    Повертає:\n",
    "    -`Відсутнє` (зображення з прямокутниками навколо очей зберігається у вказаному вихідному шляху).\n",
    "    \"\"\"\n",
    "    # Чтение изображения\n",
    "    img = cv2.imread(image_path)\n",
    "    # Преобразование в градации серого\n",
    "    img_rgb = cv2.cvtColor(img, cv2.COLOR_BGR2RGB);\n",
    "\n",
    "    # Обнаружение лиц на изображении\n",
    "    faces = hog_face_detector(img_rgb)\n",
    "\n",
    "    for i, face in enumerate(faces):\n",
    "                landmarks = predictor(img_rgb, face)\n",
    "\n",
    "                left_eye_x = landmarks.part(36).x\n",
    "                left_eye_y = landmarks.part(37).y\n",
    "                right_eye_x = landmarks.part(39).x\n",
    "                right_eye_y = landmarks.part(40).y\n",
    "\n",
    "                left_eye_width = right_eye_x - left_eye_x\n",
    "                left_eye_height = right_eye_y - left_eye_y\n",
    "                cv2.rectangle(img_rgb, (left_eye_x, left_eye_y), (left_eye_x + left_eye_width, left_eye_y + left_eye_height), (0, 255, 0), 2)\n",
    "\n",
    "                left_eye_x = landmarks.part(42).x\n",
    "                left_eye_y = landmarks.part(43).y\n",
    "                right_eye_x = landmarks.part(45).x\n",
    "                right_eye_y = landmarks.part(46).y\n",
    "\n",
    "                right_eye_width = right_eye_x - left_eye_x\n",
    "                right_eye_height = right_eye_y - left_eye_y\n",
    "                cv2.rectangle(img_rgb, (left_eye_x, left_eye_y), (left_eye_x + right_eye_width, left_eye_y + right_eye_height), (0, 255, 0), 2)\n",
    "\n",
    "                output_file = os.path.join(output_path, os.path.basename(image_path))\n",
    "                cv2.imwrite(output_file, cv2.cvtColor(img_rgb, cv2.COLOR_RGB2BGR))\n",
    "   \n",
    "def find_smiles(image_path, output_path):\n",
    "    \"\"\"\n",
    "    Знаходить усмішки на зображенні та зберігає з ними прямокутники.\n",
    "\n",
    "    Параметри:\n",
    "    - `image_path`: Шлях до вхідного зображення.\n",
    "    - `output_path`: Шлях для зберігання зображення з нанесеними прямокутниками навколо усмішок.\n",
    "\n",
    "    Повертає:\n",
    "    -`Відсутнє` (зображення з прямокутниками навколо усмішок зберігається у вказаному вихідному шляху).\n",
    "    \"\"\"\n",
    "    # Чтение изображения\n",
    "    img = cv2.imread(image_path)\n",
    "    # Преобразование в градации серого\n",
    "    gray = cv2.cvtColor(img, cv2.COLOR_BGR2GRAY)\n",
    "\n",
    "    # Обнаружение улыбок на изображении\n",
    "    smiles = smile_cascade.detectMultiScale(gray, scaleFactor=1.8, minNeighbors=20)\n",
    "\n",
    "    for (sx, sy, sw, sh) in smiles:\n",
    "        cv2.rectangle(img, (sx, sy), (sx+sw, sy+sh), (0, 255, 0), 2)\n",
    "\n",
    "    output_file = os.path.join(output_path, os.path.basename(image_path))\n",
    "    cv2.imwrite(output_file, img)\n"
   ]
  },
  {
   "cell_type": "markdown",
   "metadata": {},
   "source": [
    "## <span style=\"color:lightblue\">`Завдання 1`. Реалізація обрізки методом Віоли Джонса.</span>\n"
   ]
  },
  {
   "cell_type": "markdown",
   "metadata": {},
   "source": [
    "##### `1.` Спочатку треба обрати датасет з мітками картинок. Я обрав датасет [Celebrity Face Image Dataset](https://www.kaggle.com/datasets/vishesh1412/celebrity-face-image-dataset/). Після чого провів обрізку\n"
   ]
  },
  {
   "cell_type": "code",
   "execution_count": 4,
   "metadata": {},
   "outputs": [
    {
     "name": "stdout",
     "output_type": "stream",
     "text": [
      "Обрезка завершена.\n"
     ]
    }
   ],
   "source": [
    "# Перебор всех файлов в папке\n",
    "for root, dirs, files in os.walk(input_folder_path):\n",
    "    for file in files:\n",
    "        if file.lower().endswith(('.png', '.jpg', '.jpeg', '.gif')):\n",
    "            image_path = os.path.join(root, file)\n",
    "            # Создание подпапки в output_folder, если она не существует\n",
    "            output_subfolder = os.path.join(output_folder_path, os.path.relpath(root, input_folder_path))\n",
    "            os.makedirs(output_subfolder, exist_ok=True)\n",
    "            # Обрезка лиц на изображении и сохранение в той же подпапке\n",
    "            crop_faces(image_path, output_subfolder)\n",
    "\n",
    "print(\"Обрезка завершена.\")"
   ]
  },
  {
   "cell_type": "markdown",
   "metadata": {},
   "source": [
    "##### `2.` Розбиваю датасет на test та train вибірки."
   ]
  },
  {
   "cell_type": "code",
   "execution_count": 11,
   "metadata": {},
   "outputs": [
    {
     "name": "stdout",
     "output_type": "stream",
     "text": [
      "Found 896 files belonging to 17 classes.\n",
      "Using 717 files for training.\n",
      "Using 179 files for validation.\n"
     ]
    }
   ],
   "source": [
    "train_ds, test_ds = image_dataset_from_directory(\n",
    "    output_folder_path,\n",
    "    validation_split = 0.2,\n",
    "    subset='both',\n",
    "    label_mode='categorical',\n",
    "    batch_size = 1,\n",
    "    seed=0,\n",
    ")\n"
   ]
  },
  {
   "cell_type": "markdown",
   "metadata": {},
   "source": [
    "##### `3.` Достаю з вибірки дані (картинки та класи) для тестової та навчальної вибірки. Також застосовую PCA для оптимізації роботи алгоритмів."
   ]
  },
  {
   "cell_type": "code",
   "execution_count": 12,
   "metadata": {},
   "outputs": [],
   "source": [
    "x_train, y_train = extract_data_from_dataset(train_ds)"
   ]
  },
  {
   "cell_type": "code",
   "execution_count": 13,
   "metadata": {},
   "outputs": [],
   "source": [
    "x_test, y_test = extract_data_from_dataset(test_ds)"
   ]
  },
  {
   "cell_type": "code",
   "execution_count": 14,
   "metadata": {},
   "outputs": [],
   "source": [
    "x_train_pca = apply_pca_to_images(x_train, 100)"
   ]
  },
  {
   "cell_type": "code",
   "execution_count": 15,
   "metadata": {},
   "outputs": [],
   "source": [
    "x_test_pca=apply_pca_to_images(x_test,100)"
   ]
  },
  {
   "cell_type": "markdown",
   "metadata": {},
   "source": [
    "##### `4.` Розпізнавання картинки знаменитості методом `RandomForestClassifier`."
   ]
  },
  {
   "cell_type": "code",
   "execution_count": 16,
   "metadata": {},
   "outputs": [
    {
     "name": "stdout",
     "output_type": "stream",
     "text": [
      "Accuracy: 0.99860529986053\n",
      "Precision: 0.99860529986053\n",
      "Recall: 0.99860529986053\n"
     ]
    }
   ],
   "source": [
    "# Ініціалізація та навчання RandomForestClassifier\n",
    "clf = RandomForestClassifier()\n",
    "clf.fit(x_train_pca, y_train)\n",
    "\n",
    "# Передбачення на тестовому наборі\n",
    "y_pred_train = clf.predict(x_train_pca)\n",
    "\n",
    "# Оцінка точності моделі\n",
    "accuracy = accuracy_score(y_train, y_pred_train)\n",
    "print(f'Accuracy: {accuracy}')\n",
    "precision = precision_score(y_train, y_pred_train, average=\"micro\")\n",
    "print(f'Precision: {accuracy}')\n",
    "recall = recall_score(y_train, y_pred_train, average=\"micro\")\n",
    "print(f'Recall: {accuracy}')"
   ]
  },
  {
   "cell_type": "code",
   "execution_count": 18,
   "metadata": {},
   "outputs": [
    {
     "name": "stdout",
     "output_type": "stream",
     "text": [
      "Accuracy: 0.0\n",
      "Precision: 0.0\n",
      "Recall: 0.0\n"
     ]
    },
    {
     "name": "stderr",
     "output_type": "stream",
     "text": [
      "/home/kyrylo/.cache/pypoetry/virtualenvs/python-technicalvision-labs-XHQBv0MF-py3.11/lib/python3.11/site-packages/sklearn/metrics/_classification.py:1471: UndefinedMetricWarning: Precision is ill-defined and being set to 0.0 due to no predicted samples. Use `zero_division` parameter to control this behavior.\n",
      "  _warn_prf(average, modifier, msg_start, len(result))\n"
     ]
    }
   ],
   "source": [
    "# Передбачення на тестовому наборі\n",
    "y_pred_test = clf.predict(x_test_pca)\n",
    "\n",
    "# Оцінка точності моделі\n",
    "accuracy = accuracy_score(y_test, y_pred_test)\n",
    "print(f'Accuracy: {accuracy}')\n",
    "precision = precision_score(y_test, y_pred_test, average=\"micro\")\n",
    "print(f'Precision: {accuracy}')\n",
    "recall = recall_score(y_test, y_pred_test, average=\"micro\")\n",
    "print(f'Recall: {accuracy}')"
   ]
  },
  {
   "cell_type": "markdown",
   "metadata": {},
   "source": [
    "##### `5.` Розпізнавання картинки знаменитості методом `MLPClassifier`."
   ]
  },
  {
   "cell_type": "code",
   "execution_count": 19,
   "metadata": {},
   "outputs": [
    {
     "name": "stdout",
     "output_type": "stream",
     "text": [
      "Accuracy: 1.0\n",
      "Precision: 1.0\n",
      "Recall: 1.0\n"
     ]
    }
   ],
   "source": [
    "# Ініціалізація та навчання MLPClassifier\n",
    "clf = MLPClassifier()\n",
    "clf.fit(x_train_pca, y_train)\n",
    "\n",
    "# Передбачення на тестовому наборі\n",
    "y_pred_train = clf.predict(x_train_pca)\n",
    "\n",
    "# Оцінка точності моделі\n",
    "accuracy = accuracy_score(y_train, y_pred_train)\n",
    "print(f'Accuracy: {accuracy}')\n",
    "precision = precision_score(y_train, y_pred_train, average=\"micro\")\n",
    "print(f'Precision: {accuracy}')\n",
    "recall = recall_score(y_train, y_pred_train, average=\"micro\")\n",
    "print(f'Recall: {accuracy}')"
   ]
  },
  {
   "cell_type": "code",
   "execution_count": 20,
   "metadata": {},
   "outputs": [
    {
     "name": "stdout",
     "output_type": "stream",
     "text": [
      "Accuracy: 0.0223463687150838\n",
      "Precision: 0.0223463687150838\n",
      "Recall: 0.0223463687150838\n"
     ]
    }
   ],
   "source": [
    "# Передбачення на тестовому наборі\n",
    "y_pred_test = clf.predict(x_test_pca)\n",
    "\n",
    "# Оцінка точності моделі\n",
    "accuracy = accuracy_score(y_test, y_pred_test)\n",
    "print(f'Accuracy: {accuracy}')\n",
    "precision = precision_score(y_test, y_pred_test, average=\"micro\")\n",
    "print(f'Precision: {accuracy}')\n",
    "recall = recall_score(y_test, y_pred_test, average=\"micro\")\n",
    "print(f'Recall: {accuracy}')"
   ]
  },
  {
   "cell_type": "markdown",
   "metadata": {},
   "source": [
    "##### `6.` Розпізнавання картинки знаменитості методом `SVM-метод опорних векторів`."
   ]
  },
  {
   "cell_type": "code",
   "execution_count": 21,
   "metadata": {},
   "outputs": [
    {
     "name": "stdout",
     "output_type": "stream",
     "text": [
      "Accuracy: 0.8228730822873083\n",
      "Precision: 0.8228730822873083\n",
      "Recall: 0.8228730822873083\n"
     ]
    }
   ],
   "source": [
    "# Використання лише першого стовпця для one-hot encoding як мітки\n",
    "y_train_single = y_train.argmax(axis=1)\n",
    "\n",
    "# Ініціалізація та навчання SVC\n",
    "clf = SVC()\n",
    "clf.fit(x_train_pca, y_train_single)\n",
    "\n",
    "# Передбачення на тренувальному наборі\n",
    "y_pred_train = clf.predict(x_train_pca)\n",
    "\n",
    "# Оцінка точності моделі\n",
    "accuracy = accuracy_score(y_train_single, y_pred_train)\n",
    "print(f'Accuracy: {accuracy}')\n",
    "\n",
    "# Оцінка precision та recall\n",
    "precision = precision_score(y_train_single, y_pred_train, average=\"micro\")\n",
    "print(f'Precision: {precision}')\n",
    "recall = recall_score(y_train_single, y_pred_train, average=\"micro\")\n",
    "print(f'Recall: {recall}')"
   ]
  },
  {
   "cell_type": "code",
   "execution_count": 22,
   "metadata": {},
   "outputs": [
    {
     "name": "stdout",
     "output_type": "stream",
     "text": [
      "Accuracy: 0.061452513966480445\n",
      "Precision: 0.061452513966480445\n",
      "Recall: 0.061452513966480445\n"
     ]
    }
   ],
   "source": [
    "# Використання лише першого стовпця для one-hot encoding як мітки\n",
    "y_test_single = y_test.argmax(axis=1)\n",
    "\n",
    "# Передбачення на тренувальному наборі\n",
    "y_pred_test = clf.predict(x_test_pca)\n",
    "\n",
    "# Оцінка точності моделі\n",
    "accuracy = accuracy_score(y_test_single, y_pred_test)\n",
    "print(f'Accuracy: {accuracy}')\n",
    "\n",
    "# Оцінка precision та recall\n",
    "precision = precision_score(y_test_single, y_pred_test, average=\"micro\")\n",
    "print(f'Precision: {precision}')\n",
    "recall = recall_score(y_test_single, y_pred_test, average=\"micro\")\n",
    "print(f'Recall: {recall}')"
   ]
  },
  {
   "cell_type": "markdown",
   "metadata": {},
   "source": [
    "## <span style=\"color:lightblue\">`Завдання 2`. Реалізація обрізки методом Hog детектор.</span>"
   ]
  },
  {
   "cell_type": "markdown",
   "metadata": {},
   "source": [
    "##### `1.` Обрізка картинок методом HOG."
   ]
  },
  {
   "cell_type": "code",
   "execution_count": 7,
   "metadata": {},
   "outputs": [
    {
     "name": "stdout",
     "output_type": "stream",
     "text": [
      "Обрезка завершена.\n"
     ]
    }
   ],
   "source": [
    "hog_face_detector = dlib.get_frontal_face_detector()\n",
    "\n",
    "# Перебор всех файлов в папке\n",
    "for root, dirs, files in os.walk(input_folder_path):\n",
    "    for file in files:\n",
    "        if file.lower().endswith(('.png', '.jpg', '.jpeg', '.gif')):\n",
    "            image_path = os.path.join(root, file)\n",
    "            # Создание подпапки в output_folder, если она не существует\n",
    "            output_subfolder = os.path.join(output_folder_path_hog, os.path.relpath(root, input_folder_path))\n",
    "            os.makedirs(output_subfolder, exist_ok=True)\n",
    "            # Обрезка лиц на изображении и сохранение в той же подпапке\n",
    "            crop_faces_hog(image_path, output_subfolder)\n",
    "\n",
    "print(\"Обрезка завершена.\")"
   ]
  },
  {
   "cell_type": "markdown",
   "metadata": {},
   "source": [
    "##### `2.` Достаю з вибірки дані (картинки та класи) для тестової та навчальної вибірки. Також застосовую PCA для оптимізації роботи алгоритмів."
   ]
  },
  {
   "cell_type": "code",
   "execution_count": 14,
   "metadata": {},
   "outputs": [
    {
     "name": "stdout",
     "output_type": "stream",
     "text": [
      "Found 1718 files belonging to 17 classes.\n",
      "Using 1375 files for training.\n",
      "Using 343 files for validation.\n"
     ]
    }
   ],
   "source": [
    "train_ds_hog, test_ds_hog = image_dataset_from_directory(\n",
    "    output_folder_path_hog,\n",
    "    validation_split = 0.2,\n",
    "    subset='both',\n",
    "    label_mode='categorical',\n",
    "    batch_size = 1,\n",
    "    seed=0,\n",
    ")"
   ]
  },
  {
   "cell_type": "code",
   "execution_count": 18,
   "metadata": {},
   "outputs": [],
   "source": [
    "x_train_hog, y_train_hog = extract_data_from_dataset(train_ds_hog)"
   ]
  },
  {
   "cell_type": "code",
   "execution_count": 17,
   "metadata": {},
   "outputs": [],
   "source": [
    "x_test_hog, y_test_hog = extract_data_from_dataset(test_ds_hog)"
   ]
  },
  {
   "cell_type": "code",
   "execution_count": 19,
   "metadata": {},
   "outputs": [],
   "source": [
    "x_train_hog_pca = apply_pca_to_images(x_train_hog, 100)"
   ]
  },
  {
   "cell_type": "code",
   "execution_count": null,
   "metadata": {},
   "outputs": [],
   "source": [
    "x_test_hog_pca = apply_pca_to_images(x_test_hog, 100)"
   ]
  },
  {
   "cell_type": "markdown",
   "metadata": {},
   "source": [
    "##### `3.` Розпізнавання картинки знаменитості методом `RandomForestClassifier`."
   ]
  },
  {
   "cell_type": "code",
   "execution_count": 22,
   "metadata": {},
   "outputs": [
    {
     "name": "stdout",
     "output_type": "stream",
     "text": [
      "Accuracy: 0.9985454545454545\n",
      "Precision: 0.9985454545454545\n",
      "Recall: 0.9985454545454545\n"
     ]
    }
   ],
   "source": [
    "# Ініціалізація та навчання RandomForestClassifier\n",
    "clf_hog = RandomForestClassifier()\n",
    "clf_hog.fit(x_train_hog_pca, y_train_hog)\n",
    "\n",
    "# Передбачення на тестовому наборі\n",
    "y_hog_pred_train = clf_hog.predict(x_train_hog_pca)\n",
    "\n",
    "# Оцінка точності моделі\n",
    "accuracy = accuracy_score(y_train_hog, y_hog_pred_train)\n",
    "print(f'Accuracy: {accuracy}')\n",
    "precision = precision_score(y_train_hog, y_hog_pred_train, average=\"micro\")\n",
    "print(f'Precision: {accuracy}')\n",
    "recall = recall_score(y_train_hog, y_hog_pred_train, average=\"micro\")\n",
    "print(f'Recall: {accuracy}')"
   ]
  },
  {
   "cell_type": "code",
   "execution_count": 26,
   "metadata": {},
   "outputs": [
    {
     "name": "stdout",
     "output_type": "stream",
     "text": [
      "Accuracy: 0.0\n",
      "Precision: 0.0\n",
      "Recall: 0.0\n"
     ]
    },
    {
     "name": "stderr",
     "output_type": "stream",
     "text": [
      "/home/kyrylo/.cache/pypoetry/virtualenvs/python-technicalvision-labs-XHQBv0MF-py3.11/lib/python3.11/site-packages/sklearn/metrics/_classification.py:1471: UndefinedMetricWarning: Precision is ill-defined and being set to 0.0 due to no predicted samples. Use `zero_division` parameter to control this behavior.\n",
      "  _warn_prf(average, modifier, msg_start, len(result))\n"
     ]
    }
   ],
   "source": [
    "# Передбачення на тестовому наборі\n",
    "y_hog_pred_test = clf_hog.predict(x_test_hog_pca)\n",
    "\n",
    "# Оцінка точності моделі\n",
    "accuracy = accuracy_score(y_test_hog, y_hog_pred_test)\n",
    "print(f'Accuracy: {accuracy}')\n",
    "precision = precision_score(y_test_hog, y_hog_pred_test, average=\"micro\")\n",
    "print(f'Precision: {accuracy}')\n",
    "recall = recall_score(y_test_hog, y_hog_pred_test, average=\"micro\")\n",
    "print(f'Recall: {accuracy}')"
   ]
  },
  {
   "cell_type": "markdown",
   "metadata": {},
   "source": [
    "##### `4.` Розпізнавання картинки знаменитості методом `MLPClassifier`."
   ]
  },
  {
   "cell_type": "code",
   "execution_count": 27,
   "metadata": {},
   "outputs": [
    {
     "name": "stdout",
     "output_type": "stream",
     "text": [
      "Accuracy: 1.0\n",
      "Precision: 1.0\n",
      "Recall: 1.0\n"
     ]
    }
   ],
   "source": [
    "# Ініціалізація та навчання MLPClassifier\n",
    "clf_hog = MLPClassifier()\n",
    "clf_hog.fit(x_train_hog_pca, y_train_hog)\n",
    "\n",
    "# Передбачення на тестовому наборі\n",
    "y_hog_pred_train = clf_hog.predict(x_train_hog_pca)\n",
    "\n",
    "# Оцінка точності моделі\n",
    "accuracy = accuracy_score(y_train_hog, y_hog_pred_train)\n",
    "print(f'Accuracy: {accuracy}')\n",
    "precision = precision_score(y_train_hog, y_hog_pred_train, average=\"micro\")\n",
    "print(f'Precision: {accuracy}')\n",
    "recall = recall_score(y_train_hog, y_hog_pred_train, average=\"micro\")\n",
    "print(f'Recall: {accuracy}')"
   ]
  },
  {
   "cell_type": "code",
   "execution_count": 28,
   "metadata": {},
   "outputs": [
    {
     "name": "stdout",
     "output_type": "stream",
     "text": [
      "Accuracy: 0.026239067055393587\n",
      "Precision: 0.026239067055393587\n",
      "Recall: 0.026239067055393587\n"
     ]
    }
   ],
   "source": [
    "# Передбачення на тестовому наборі\n",
    "y_hog_pred_test = clf_hog.predict(x_test_hog_pca)\n",
    "\n",
    "# Оцінка точності моделі\n",
    "accuracy = accuracy_score(y_test_hog, y_hog_pred_test)\n",
    "print(f'Accuracy: {accuracy}')\n",
    "precision = precision_score(y_test_hog, y_hog_pred_test, average=\"micro\")\n",
    "print(f'Precision: {accuracy}')\n",
    "recall = recall_score(y_test_hog, y_hog_pred_test, average=\"micro\")\n",
    "print(f'Recall: {accuracy}')"
   ]
  },
  {
   "cell_type": "markdown",
   "metadata": {},
   "source": [
    "##### `5.` Розпізнавання картинки знаменитості методом `SVM-метод опорних векторів`."
   ]
  },
  {
   "cell_type": "code",
   "execution_count": 29,
   "metadata": {},
   "outputs": [
    {
     "name": "stdout",
     "output_type": "stream",
     "text": [
      "Accuracy: 0.808\n",
      "Precision: 0.808\n",
      "Recall: 0.808\n"
     ]
    }
   ],
   "source": [
    "# Використання лише першого стовпця для one-hot encoding як мітки\n",
    "y_train_single = y_train_hog.argmax(axis=1)\n",
    "\n",
    "# Ініціалізація та навчання SVC\n",
    "clf_hog = SVC()\n",
    "clf_hog.fit(x_train_hog_pca, y_train_single)\n",
    "\n",
    "# Передбачення на тренувальному наборі\n",
    "y_hog_pred_train = clf_hog.predict(x_train_hog_pca)\n",
    "\n",
    "# Оцінка точності моделі\n",
    "accuracy = accuracy_score(y_train_single, y_hog_pred_train)\n",
    "print(f'Accuracy: {accuracy}')\n",
    "\n",
    "# Оцінка precision та recall\n",
    "precision = precision_score(y_train_single, y_hog_pred_train, average=\"micro\")\n",
    "print(f'Precision: {precision}')\n",
    "recall = recall_score(y_train_single, y_hog_pred_train, average=\"micro\")\n",
    "print(f'Recall: {recall}')"
   ]
  },
  {
   "cell_type": "code",
   "execution_count": 30,
   "metadata": {},
   "outputs": [
    {
     "name": "stdout",
     "output_type": "stream",
     "text": [
      "Accuracy: 0.15451895043731778\n",
      "Precision: 0.15451895043731778\n",
      "Recall: 0.15451895043731778\n"
     ]
    }
   ],
   "source": [
    "# Використання лише першого стовпця для one-hot encoding як мітки\n",
    "y_test_single = y_test_hog.argmax(axis=1)\n",
    "\n",
    "# Передбачення на тренувальному наборі\n",
    "y_hog_pred_test = clf_hog.predict(x_test_hog_pca)\n",
    "\n",
    "# Оцінка точності моделі\n",
    "accuracy = accuracy_score(y_test_single, y_hog_pred_test)\n",
    "print(f'Accuracy: {accuracy}')\n",
    "\n",
    "# Оцінка precision та recall\n",
    "precision = precision_score(y_test_single, y_hog_pred_test, average=\"micro\")\n",
    "print(f'Precision: {precision}')\n",
    "recall = recall_score(y_test_single, y_hog_pred_test, average=\"micro\")\n",
    "print(f'Recall: {recall}')"
   ]
  },
  {
   "cell_type": "markdown",
   "metadata": {},
   "source": []
  },
  {
   "cell_type": "markdown",
   "metadata": {},
   "source": [
    "## <span style=\"color:lightblue\">`Завдання 3`. Реалізація пошуку очей методом Hog детектор.</span>"
   ]
  },
  {
   "cell_type": "code",
   "execution_count": 33,
   "metadata": {},
   "outputs": [
    {
     "name": "stdout",
     "output_type": "stream",
     "text": [
      "Обрезка завершена.\n"
     ]
    }
   ],
   "source": [
    "# Перебор всех файлов в папке\n",
    "for root, dirs, files in os.walk(input_folder_path):\n",
    "    for file in files:\n",
    "        if file.lower().endswith(('.png', '.jpg', '.jpeg', '.gif')):\n",
    "            image_path = os.path.join(root, file)\n",
    "            # Создание подпапки в output_folder, если она не существует\n",
    "            output_subfolder = os.path.join(output_folder_path_hog_eyes, os.path.relpath(root, input_folder_path))\n",
    "            os.makedirs(output_subfolder, exist_ok=True)\n",
    "            # Обрезка лиц на изображении и сохранение в той же подпапке\n",
    "            find_eyes_hog(image_path, output_subfolder)\n",
    "\n",
    "print(\"Обрезка завершена.\")"
   ]
  },
  {
   "cell_type": "markdown",
   "metadata": {},
   "source": [
    "## <span style=\"color:lightblue\">`Завдання 4`. Реалізація пошуку посмішок методом Віоли Джонса.</span>"
   ]
  },
  {
   "cell_type": "code",
   "execution_count": 40,
   "metadata": {},
   "outputs": [
    {
     "name": "stdout",
     "output_type": "stream",
     "text": [
      "Обрезка завершена.\n"
     ]
    }
   ],
   "source": [
    "# Перебор всех файлов в папке\n",
    "for root, dirs, files in os.walk(input_folder_path):\n",
    "    for file in files:\n",
    "        if file.lower().endswith(('.png', '.jpg', '.jpeg', '.gif')):\n",
    "            image_path = os.path.join(root, file)\n",
    "            # Создание подпапки в output_folder, если она не существует\n",
    "            output_subfolder = os.path.join(output_folder_smiles_path, os.path.relpath(root, input_folder_path))\n",
    "            os.makedirs(output_subfolder, exist_ok=True)\n",
    "            # Обрезка лиц на изображении и сохранение в той же подпапке\n",
    "            find_smiles(image_path, output_subfolder)\n",
    "\n",
    "print(\"Обрезка завершена.\")"
   ]
  }
 ],
 "metadata": {
  "kernelspec": {
   "display_name": "python-technicalvision-labs-XHQBv0MF-py3.11",
   "language": "python",
   "name": "python3"
  },
  "language_info": {
   "codemirror_mode": {
    "name": "ipython",
    "version": 3
   },
   "file_extension": ".py",
   "mimetype": "text/x-python",
   "name": "python",
   "nbconvert_exporter": "python",
   "pygments_lexer": "ipython3",
   "version": "3.11.5"
  },
  "orig_nbformat": 4
 },
 "nbformat": 4,
 "nbformat_minor": 2
}
