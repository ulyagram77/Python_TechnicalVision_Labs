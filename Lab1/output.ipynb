{
 "cells": [
  {
   "cell_type": "code",
   "execution_count": null,
   "metadata": {},
   "outputs": [],
   "source": [
    "import cv2\n",
    "import tkinter as tk\n",
    "import os\n",
    "from tkinter import filedialog\n",
    "import matplotlib.pyplot as plt"
   ]
  },
  {
   "cell_type": "markdown",
   "metadata": {},
   "source": [
    "## Зчитування,відображення,збереження картинки та її гістограми"
   ]
  },
  {
   "cell_type": "code",
   "execution_count": null,
   "metadata": {},
   "outputs": [],
   "source": [
    "def load_image():\n",
    "    \"\"\"Функция для загрузки изображения\"\"\"\n",
    "    file_path = filedialog.askopenfilename()\n",
    "\n",
    "    if not file_path:\n",
    "        return None\n",
    "    if not os.path.isfile(file_path):\n",
    "        return None\n",
    "\n",
    "    # Загружаем цветное изображение\n",
    "    return cv2.imread(file_path, 1)"
   ]
  },
  {
   "cell_type": "code",
   "execution_count": null,
   "metadata": {},
   "outputs": [],
   "source": [
    "def show_image(img):\n",
    "    \"\"\"Функция для показа изображения\"\"\"\n",
    "    if img is not None:\n",
    "        cv2.imshow('Your loaded image', img)\n",
    "        cv2.waitKey(0)\n",
    "        cv2.destroyAllWindows()\n",
    "    else:\n",
    "        print(\"Error.Image does not downloaded.\")\n",
    "        \n"
   ]
  },
  {
   "cell_type": "code",
   "execution_count": null,
   "metadata": {},
   "outputs": [],
   "source": [
    "def save_image(img):\n",
    "    \"\"\"Функция для сохранения изображения\"\"\"\n",
    "    if img is None:\n",
    "        print(\"Error.Image does not downloaded.\")\n",
    "        \n",
    "    file_path = filedialog.asksaveasfilename(defaultextension=\".jpeg\")\n",
    "    if not file_path:\n",
    "        return\n",
    "    \n",
    "    cv2.imwrite(file_path, img)\n",
    "    cv2.destroyAllWindows()"
   ]
  },
  {
   "cell_type": "code",
   "execution_count": null,
   "metadata": {},
   "outputs": [],
   "source": [
    "def show_histogram(img):\n",
    "    \"\"\"Функція відображення гістограми\"\"\"\n",
    "    color = ('b', 'g', 'r')\n",
    "\n",
    "    for i, col in enumerate(color):\n",
    "        histr = cv2.calcHist([img], [i], None, [256], [0, 256])\n",
    "        plt.plot(histr, color=col)\n",
    "    \n",
    "    plt.xlim([0, 256])\n",
    "    plt.show()"
   ]
  },
  {
   "cell_type": "markdown",
   "metadata": {},
   "source": [
    "## Алгоритм створення негативного зображення шляхом віднімання"
   ]
  },
  {
   "cell_type": "code",
   "execution_count": null,
   "metadata": {},
   "outputs": [],
   "source": [
    "def create_negative_image_second(img):\n",
    "    if img is not None:\n",
    "        img_neg = 255 - img  # Инверсия цветов\n",
    "        return img_neg\n",
    "    else:\n",
    "        print(\"Error.Image does not downloaded.\")"
   ]
  },
  {
   "cell_type": "code",
   "execution_count": null,
   "metadata": {},
   "outputs": [],
   "source": [
    "img = load_image()\n",
    "show_histogram(img)"
   ]
  },
  {
   "cell_type": "code",
   "execution_count": null,
   "metadata": {},
   "outputs": [],
   "source": [
    "show_image(img)"
   ]
  },
  {
   "cell_type": "code",
   "execution_count": null,
   "metadata": {},
   "outputs": [],
   "source": [
    "negative_img = create_negative_image_second(img)\n",
    "show_histogram(negative_img)"
   ]
  },
  {
   "cell_type": "code",
   "execution_count": null,
   "metadata": {},
   "outputs": [],
   "source": [
    "show_image(negative_img)"
   ]
  },
  {
   "cell_type": "code",
   "execution_count": null,
   "metadata": {},
   "outputs": [],
   "source": [
    "save_image(negative_img)"
   ]
  },
  {
   "cell_type": "markdown",
   "metadata": {},
   "source": [
    "## Алгоритм створення негативного зображення шляхом перебору масиву пікселів та його інвертування"
   ]
  },
  {
   "cell_type": "code",
   "execution_count": null,
   "metadata": {},
   "outputs": [],
   "source": [
    "def create_negative_image_first(img):\n",
    "    if img is None:\n",
    "        print(\"Error.Image does not downloaded.\")\n",
    "        \n",
    "    img = img.copy()\n",
    "    # Get height and width of the image\n",
    "    height, width, _ = img.shape\n",
    "    for i in range(height):\n",
    "        for j in range(width):\n",
    "            # Get the pixel value\n",
    "            pixel = img[i, j]\n",
    "            # Negate each channel by subtracting it from 255\n",
    "            # 1st index contains red pixel\n",
    "            pixel[0] = 255 - pixel[0]\n",
    "            # 2nd index contains green pixel\n",
    "            pixel[1] = 255 - pixel[1]\n",
    "            # 3rd index contains blue pixel\n",
    "            pixel[2] = 255 - pixel[2]\n",
    "            # Store new values in the pixel\n",
    "            img[i, j] = pixel\n",
    "\n",
    "    return img\n",
    "\n",
    "\n",
    "def show_image_first(img):\n",
    "    plt.imshow(cv2.cvtColor(img, cv2.COLOR_BGR2RGB))\n",
    "    plt.show()"
   ]
  },
  {
   "cell_type": "code",
   "execution_count": null,
   "metadata": {},
   "outputs": [],
   "source": [
    "negative_img_task2 = create_negative_image_first(img)"
   ]
  },
  {
   "cell_type": "code",
   "execution_count": null,
   "metadata": {},
   "outputs": [],
   "source": [
    "show_image_first(img)"
   ]
  },
  {
   "cell_type": "code",
   "execution_count": null,
   "metadata": {},
   "outputs": [],
   "source": [
    "show_histogram(img)"
   ]
  },
  {
   "cell_type": "code",
   "execution_count": null,
   "metadata": {},
   "outputs": [],
   "source": [
    "show_image_first(negative_img_task2)"
   ]
  },
  {
   "cell_type": "code",
   "execution_count": null,
   "metadata": {},
   "outputs": [],
   "source": [
    "show_histogram(negative_img_task2)"
   ]
  },
  {
   "cell_type": "code",
   "execution_count": null,
   "metadata": {},
   "outputs": [],
   "source": [
    "save_image(negative_img_task2)"
   ]
  }
 ],
 "metadata": {
  "kernelspec": {
   "display_name": "lab1-lggU2FsW-py3.11",
   "language": "python",
   "name": "python3"
  },
  "language_info": {
   "codemirror_mode": {
    "name": "ipython",
    "version": 3
   },
   "file_extension": ".py",
   "mimetype": "text/x-python",
   "name": "python",
   "nbconvert_exporter": "python",
   "pygments_lexer": "ipython3",
   "version": "3.11.5"
  },
  "orig_nbformat": 4
 },
 "nbformat": 4,
 "nbformat_minor": 2
}
