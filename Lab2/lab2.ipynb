{
 "cells": [
  {
   "cell_type": "code",
   "execution_count": null,
   "metadata": {},
   "outputs": [],
   "source": [
    "\n",
    "# імпорт бібліотек\n",
    "import cv2\n",
    "import tkinter as tk\n",
    "import os\n",
    "from tkinter import filedialog\n",
    "import matplotlib.pyplot as plt\n",
    "import numpy as np"
   ]
  },
  {
   "cell_type": "markdown",
   "metadata": {},
   "source": [
    "## Допоміжна теорія"
   ]
  },
  {
   "cell_type": "markdown",
   "metadata": {},
   "source": [
    "> `Дискретний шлях бінарного зображення між двома пікселями` –\n",
    "це послідовність пікселів, в якій при переміщенні від початкового\n",
    "пікселя до кінцевого пікселя кожен піксель послідовності має два\n",
    "сусідні пікселі, що належать цій послідовності: попередній і\n",
    "наступний.\n"
   ]
  },
  {
   "cell_type": "markdown",
   "metadata": {},
   "source": [
    "> `Контур бінарного зображення` – це будь-який замкнутий шлях. У\n",
    "разі бінарного зображення контур – це межа зв'язаної області з\n",
    "однаковою інтенсивністю."
   ]
  },
  {
   "cell_type": "markdown",
   "metadata": {},
   "source": [
    "> `Режими групування у cv.findContours()`\n",
    "> - CV_RETR_LIST - видає всі контури без групування;\n",
    "> - CV_RETR_EXTERNAL – видає лише крайні зовнішні контури. \n",
    "> - CV_RETR_CCOMP - групує контури у дворівневу ієрархію. На\n",
    "верхньому рівні – зовнішні контури об'єкта. На другому рівні –\n",
    "контури отворів, якщо такі є. Решта контурів потрапляють на верхній\n",
    "рівень.\n",
    "> - CV_RETR_TREE - групує контури в багаторівневу ієрархію.\n"
   ]
  },
  {
   "cell_type": "markdown",
   "metadata": {},
   "source": [
    "> `Режими пакування у cv.findContours()`\n",
    "> - CV_CHAIN_APPROX_NONE – упаковка відсутня і всі контури\n",
    "зберігаються у вигляді відрізків, що складаються з двох пікселів.\n",
    "> - CV_CHAIN_APPROX_SIMPLE — склеює всі горизонтальні,\n",
    "вертикальні та діагональні контури.\n",
    "> - CHAIN_APPROX_TC89_L1, CHAIN_APPROX_TC89_KCOS - застосовує до контурів метод упаковки (апроксимації) TehChin. Вони дозволяють позбавитися від зайвих вершин, зменшуючи кількість точок."
   ]
  },
  {
   "cell_type": "markdown",
   "metadata": {},
   "source": [
    "## Допоміжні функції для роботи з картинками"
   ]
  },
  {
   "cell_type": "code",
   "execution_count": null,
   "metadata": {},
   "outputs": [],
   "source": [
    "def show_image(img, title=None):\n",
    "    \"\"\"\n",
    "    Відображує зображення у matplotlib.\n",
    "\n",
    "    Parameters:\n",
    "        img (numpy.ndarray): Зображення у форматі NumPy ndarray.\n",
    "        \n",
    "        title (str, optional): Заголовок для відображення. За замовчуванням - None.\n",
    "\n",
    "    Returns:\n",
    "        None\n",
    "    \"\"\"\n",
    "    plt.imshow(cv2.cvtColor(img, cv2.COLOR_BGR2RGB))\n",
    "    plt.title(title)\n",
    "    plt.show()\n"
   ]
  },
  {
   "cell_type": "code",
   "execution_count": null,
   "metadata": {},
   "outputs": [],
   "source": [
    "def load_image(flag):\n",
    "    \"\"\"\n",
    "    Функція зчитування зображення.\n",
    "\n",
    "    Parameters:\n",
    "        flag (int): Прапорець для cv2.imread, вказує режим завантаження (наприклад, cv2.IMREAD_COLOR).\n",
    "\n",
    "    Returns:\n",
    "        numpy.ndarray or None: Зображення у форматі NumPy ndarray або None, якщо завантаження не вдалося.\n",
    "    \"\"\"\n",
    "    file_path = filedialog.askopenfilename()\n",
    "\n",
    "    if not file_path:\n",
    "        return None\n",
    "    if not os.path.isfile(file_path):\n",
    "        return None\n",
    "\n",
    "    # Завантажуємо кольорове зображення\n",
    "    return cv2.imread(file_path, flag)"
   ]
  },
  {
   "cell_type": "markdown",
   "metadata": {},
   "source": [
    "## Знаходження та обробка контурів"
   ]
  },
  {
   "cell_type": "code",
   "execution_count": null,
   "metadata": {},
   "outputs": [],
   "source": [
    "def binary_inverted_picture(img):\n",
    "    \"\"\"Функція конвертації зображення у бінарно-інвертоване.\n",
    "    \n",
    "    Parameters:\n",
    "        img (array): Картинка для інвертації у монохромі.\n",
    "    \n",
    "    Returns:\n",
    "        array: Бінарно-інвертована картинка.\n",
    "    \"\"\"\n",
    "    img = cv2.medianBlur(img, 5)  # Функція розмиття (згладжування) зображення медіанним фільтром, де 5 – параметр розмиття (можна вибирати лише непарним та більше 1)\n",
    "\n",
    "    thresh = cv2.adaptiveThreshold(img, 255, cv2.ADAPTIVE_THRESH_GAUSSIAN_C, cv2.THRESH_BINARY, 11, 2)  # Перетворюємо вхідне зображення на бінарно-інвертоване зображення. Тут 255 – максимальне значення, 3 – граничне значення для пікселя (товщина контуру), 10 – граничне значення для всього зображення\n",
    "    return thresh\n"
   ]
  },
  {
   "cell_type": "code",
   "execution_count": null,
   "metadata": {},
   "outputs": [],
   "source": [
    "def show_binary_inverted_picture(thresh):\n",
    "    \"\"\"Функція показу бінарно-інвертованого зображення\n",
    "\n",
    "    Args:\n",
    "        thresh (array): бінарно-інвертована картинка для пошука контурів\n",
    "      \n",
    "    Examples:\n",
    "        >>> show_binary_inverted_picture(thresh)\n",
    "        # бінарно-інвертована картинка відображена через matplotlib\n",
    "    \"\"\"\n",
    "    \n",
    "    show_image(thresh, 'Бінарно-інвертована обрана картинка для пошука контурів')"
   ]
  },
  {
   "cell_type": "code",
   "execution_count": null,
   "metadata": {},
   "outputs": [],
   "source": [
    "\n",
    "def plot_contours(img, contour_group_mode, contour_packaging_mode):\n",
    "    \"\"\"\n",
    "    Функція пошуку та виводу знайдених контурів.\n",
    "\n",
    "    Parameters:\n",
    "        img (numpy.ndarray): Зображення у форматі NumPy ndarray.\n",
    "        \n",
    "        contour_group_mode (int): Режим групування контурів (наприклад, cv2.RETR_EXTERNAL).\n",
    "        \n",
    "        contour_packaging_mode (int): Режим упаковування контурів (наприклад, cv2.CHAIN_APPROX_SIMPLE).\n",
    "    \"\"\"\n",
    "    thresh = binary_inverted_picture(img)\n",
    "\n",
    "    contours, hierarchy = cv2.findContours(thresh.copy(), contour_group_mode, contour_packaging_mode)  # модуль контурів\n",
    "    \n",
    "    # cnt = contours[123] # в змінній зберігається якийсь один контур з массиву contours\n",
    "    print(f'Було знайдено {len(contours)} контурів')\n",
    "    img = cv2.cvtColor(img, cv2.COLOR_GRAY2BGR)\n",
    "    img = cv2.drawContours(img, contours, -1, (0, 255, 0), 1)\n",
    "    show_image(img,'Зображені поверх картинки знайдені контури')\n",
    "    cv2.waitKey(0)\n",
    "    cv2.destroyAllWindows()\n",
    "    "
   ]
  },
  {
   "cell_type": "code",
   "execution_count": null,
   "metadata": {},
   "outputs": [],
   "source": [
    "# ініціалізація зображення\n",
    "img = load_image(0)\n",
    "show_image(img, 'Завантажене зображення у монохромі')"
   ]
  },
  {
   "cell_type": "code",
   "execution_count": null,
   "metadata": {},
   "outputs": [],
   "source": [
    "# фільтрація зображення перед пошуком контурів\n",
    "bin_inv_img = binary_inverted_picture(img)\n",
    "show_binary_inverted_picture(bin_inv_img)"
   ]
  },
  {
   "cell_type": "code",
   "execution_count": null,
   "metadata": {},
   "outputs": [],
   "source": [
    "# Метод пакування CV_CHAIN_APPROX_SIMPLE\n",
    "print('Режим cv2.RETR_LIST групування \\nвидає всі контури без групування.')\n",
    "plot_contours(img, cv2.RETR_LIST, cv2.CHAIN_APPROX_SIMPLE)\n",
    "print('Режим cv2.RETR_EXTERNAL групування \\nвидає лише крайні зовнішні контури.')\n",
    "plot_contours(img, cv2.RETR_EXTERNAL, cv2.CHAIN_APPROX_SIMPLE)\n",
    "print('Режим cv2.RETR_CCOMP групування \\nгрупує контури у дворівневу ієрархію.')\n",
    "plot_contours(img, cv2.RETR_CCOMP, cv2.CHAIN_APPROX_SIMPLE)\n",
    "print('Режим cv2.RETR_TREE групування \\nгрупує контури в багаторівневу ієрархію.')\n",
    "plot_contours(img, cv2.RETR_TREE, cv2.CHAIN_APPROX_SIMPLE)"
   ]
  },
  {
   "cell_type": "code",
   "execution_count": null,
   "metadata": {},
   "outputs": [],
   "source": [
    "# Метод пакування CV_CHAIN_APPROX_NONE\n",
    "print('Режим cv2.RETR_LIST групування \\nвидає всі контури без групування.')\n",
    "plot_contours(img, cv2.RETR_LIST, cv2.CHAIN_APPROX_NONE)\n",
    "print('Режим cv2.RETR_EXTERNAL групування \\nвидає лише крайні зовнішні контури.')\n",
    "plot_contours(img, cv2.RETR_EXTERNAL, cv2.CHAIN_APPROX_NONE)\n",
    "print('Режим cv2.RETR_CCOMP групування \\nгрупує контури у дворівневу ієрархію.')\n",
    "plot_contours(img, cv2.RETR_CCOMP, cv2.CHAIN_APPROX_NONE)\n",
    "print('Режим cv2.RETR_TREE групування \\nгрупує контури в багаторівневу ієрархію.')\n",
    "plot_contours(img, cv2.RETR_TREE, cv2.CHAIN_APPROX_NONE)"
   ]
  },
  {
   "cell_type": "code",
   "execution_count": null,
   "metadata": {},
   "outputs": [],
   "source": [
    "# Метод пакування cv2.CHAIN_APPROX_TC89_L1\n",
    "print('Режим cv2.RETR_LIST групування \\nвидає всі контури без групування.')\n",
    "plot_contours(img, cv2.RETR_LIST, cv2.CHAIN_APPROX_TC89_L1)\n",
    "print('Режим cv2.RETR_EXTERNAL групування \\nвидає лише крайні зовнішні контури.')\n",
    "plot_contours(img, cv2.RETR_EXTERNAL, cv2.CHAIN_APPROX_TC89_L1)\n",
    "print('Режим cv2.RETR_CCOMP групування \\nгрупує контури у дворівневу ієрархію.')\n",
    "plot_contours(img, cv2.RETR_CCOMP, cv2.CHAIN_APPROX_TC89_L1)\n",
    "print('Режим cv2.RETR_TREE групування \\nгрупує контури в багаторівневу ієрархію.')\n",
    "plot_contours(img, cv2.RETR_TREE, cv2.CHAIN_APPROX_TC89_L1)"
   ]
  },
  {
   "cell_type": "code",
   "execution_count": null,
   "metadata": {},
   "outputs": [],
   "source": [
    "# Метод пакування cv2.CHAIN_APPROX_TC89_KCOS\n",
    "print('Режим cv2.RETR_LIST групування \\nвидає всі контури без групування.')\n",
    "plot_contours(img, cv2.RETR_LIST, cv2.CHAIN_APPROX_TC89_KCOS)\n",
    "print('Режим cv2.RETR_EXTERNAL групування \\nвидає лише крайні зовнішні контури.')\n",
    "plot_contours(img, cv2.RETR_EXTERNAL, cv2.CHAIN_APPROX_TC89_KCOS)\n",
    "print('Режим cv2.RETR_CCOMP групування \\nгрупує контури у дворівневу ієрархію.')\n",
    "plot_contours(img, cv2.RETR_CCOMP, cv2.CHAIN_APPROX_TC89_KCOS)\n",
    "print('Режим cv2.RETR_TREE групування \\nгрупує контури в багаторівневу ієрархію.')\n",
    "plot_contours(img, cv2.RETR_TREE, cv2.CHAIN_APPROX_TC89_KCOS)"
   ]
  }
 ],
 "metadata": {
  "kernelspec": {
   "display_name": "lab1-UbxxUX9k-py3.11",
   "language": "python",
   "name": "python3"
  },
  "language_info": {
   "codemirror_mode": {
    "name": "ipython",
    "version": 3
   },
   "file_extension": ".py",
   "mimetype": "text/x-python",
   "name": "python",
   "nbconvert_exporter": "python",
   "pygments_lexer": "ipython3",
   "version": "3.11.5"
  },
  "orig_nbformat": 4
 },
 "nbformat": 4,
 "nbformat_minor": 2
}
