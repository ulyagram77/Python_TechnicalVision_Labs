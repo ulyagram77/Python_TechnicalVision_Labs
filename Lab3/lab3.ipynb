{
 "cells": [
  {
   "cell_type": "code",
   "execution_count": null,
   "metadata": {},
   "outputs": [],
   "source": [
    "# імпорт бібліотек\n",
    "import cv2\n",
    "import tkinter as tk\n",
    "import os\n",
    "from tkinter import filedialog\n",
    "import matplotlib.pyplot as plt\n",
    "import numpy as np"
   ]
  },
  {
   "cell_type": "markdown",
   "metadata": {},
   "source": [
    "## Теорія"
   ]
  },
  {
   "cell_type": "markdown",
   "metadata": {},
   "source": [
    "`Детектор меж Кенні:`\n",
    "\n",
    "- Опис: Використовує гаусівське згладжування та визначення градієнта для виявлення меж.\n",
    "- Переваги: Добре працює при виявленні тонких контурів.\n",
    "- Недоліки: Чутливий до шуму.\n",
    "\n",
    "`Оператор Лапласіана:`\n",
    "\n",
    "- Опис: Використовує дискретний Лапласіан для визначення зміни яскравості.\n",
    "- Переваги: Ефективний при виділенні областей з великою зміною градієнту.\n",
    "- Недоліки: Чутливий до шуму, може призводити до подвійних контурів.\n",
    "\n",
    "`Оператор Собеля:`\n",
    "\n",
    "- Опис: Використовує фільтри Собеля для виділення горизонтальних та вертикальних змін яскравості.\n",
    "- Переваги: Ефективний при виділенні вертикальних або горизонтальних контурів.\n",
    "- Недоліки: Чутливий до шуму.\n",
    "\n",
    "`Оператор Прюїтта:`\n",
    "\n",
    "- Опис: Схожий на оператор Собеля, але використовує інші ядра для обчислення градієнту.\n",
    "- Переваги: Володіє схожими перевагами та недоліками, як і оператор Собеля.\n",
    "\n",
    "`Оператор Робертса:`\n",
    "\n",
    "- Опис: Використовує два 2x2 ядра для виділення градієнту.\n",
    "- Переваги: Простий у реалізації та швидкий.\n",
    "- Недоліки: Менш ефективний при роботі з товстими або деякою кутовою структурою."
   ]
  },
  {
   "cell_type": "markdown",
   "metadata": {},
   "source": [
    "## Завдання до лабораторної"
   ]
  },
  {
   "cell_type": "markdown",
   "metadata": {},
   "source": [
    "`1.` Обрати самостійно та відповідно обробити зображення для\n",
    "подальшого використання. \n",
    "\n",
    "`2.` Визначити межі зображення методами Собеля, Прюітта,\n",
    "Робертса, та за допомогою оператора Лапласіана. Навести\n",
    "результати роботи.\n",
    "\n",
    "`3.` Визначити межі зображення методом Кенні досліджуючи різні\n",
    "значення σ та параметри гістерезису. Відобразити результати.\n",
    "\n",
    "`4.` Отримані зображення оцінити візуально. Кожне зображення\n",
    "повинно отримати оцінку від 1 до 10, що визначає якість\n",
    "виділення меж."
   ]
  },
  {
   "cell_type": "markdown",
   "metadata": {},
   "source": [
    "## Допоміжні функції"
   ]
  },
  {
   "cell_type": "code",
   "execution_count": null,
   "metadata": {},
   "outputs": [],
   "source": [
    "def show_method_result(method_output, method_name):\n",
    "    \"\"\"\n",
    "    Відображення результату методу у Matplotlib.\n",
    "\n",
    "    Parameters:\n",
    "    - `result (numpy.ndarray)`: Результат методу.\n",
    "    - `title (str)`: Заголовок для зображення.\n",
    "\n",
    "    Returns:\n",
    "    - `None`\n",
    "\n",
    "    \"\"\"\n",
    "    plt.imshow(method_output, cmap='gray'), plt.title(str(method_name))\n",
    "    plt.show()"
   ]
  },
  {
   "cell_type": "code",
   "execution_count": null,
   "metadata": {},
   "outputs": [],
   "source": [
    "def show_image(img, title=None):\n",
    "    \"\"\"\n",
    "    Відображує зображення у matplotlib.\n",
    "\n",
    "    Parameters:\n",
    "    - `img (numpy.ndarray)`: Зображення у форматі NumPy ndarray.\n",
    "    - `title (str, optional)`: Заголовок для відображення. За замовчуванням - None.\n",
    "\n",
    "    Returns:\n",
    "    - `None`\n",
    "    \"\"\"\n",
    "    plt.imshow(cv2.cvtColor(img, cv2.COLOR_BGR2RGB))\n",
    "    plt.title(title)\n",
    "    plt.show()"
   ]
  },
  {
   "cell_type": "code",
   "execution_count": null,
   "metadata": {},
   "outputs": [],
   "source": [
    "def load_image(flag):\n",
    "    \"\"\"\n",
    "    Функція зчитування зображення.\n",
    "\n",
    "    Parameters:\n",
    "    - `flag (int)`: Прапорець для cv2.imread, вказує режим завантаження (наприклад, cv2.IMREAD_COLOR).\n",
    "\n",
    "    Returns:\n",
    "    - `numpy.ndarray or None`: Зображення у форматі NumPy ndarray або None, якщо завантаження не вдалося.\n",
    "    \"\"\"\n",
    "    file_path = filedialog.askopenfilename()\n",
    "\n",
    "    if not file_path:\n",
    "        return None\n",
    "    if not os.path.isfile(file_path):\n",
    "        return None\n",
    "\n",
    "    # Завантажуємо кольорове зображення\n",
    "    return cv2.imread(file_path, flag)"
   ]
  },
  {
   "cell_type": "code",
   "execution_count": null,
   "metadata": {},
   "outputs": [],
   "source": [
    "def kenny_method(image, sigma_param, min_threshold, max_threshold, plot_title):\n",
    "    \"\"\"\n",
    "    Реалізація методу Кенні для задачі.\n",
    "\n",
    "    Parameters:\n",
    "    - `image (numpy.ndarray)`: Вхідне зображення.\n",
    "    - `sigma_param (float)`: Стандартне відхилення для фільтра Гаусса.\n",
    "    - `min_threshold (int)`: Нижчий поріг гістерезису в методі Кенні.\n",
    "    - `max_threshold (int)`: Верхній поріг гістерезису в методі Кенні.\n",
    "    - `plot_title (str)`: Заголовок для виведення результату.\n",
    "\n",
    "    Returns:\n",
    "    - `None`\n",
    "\n",
    "    \"\"\"\n",
    "    # Застосовуємо фільтр Гаусса для згладжування зображення\n",
    "    image_blur = cv2.GaussianBlur(image, (3, 3), sigma_param)\n",
    "    \n",
    "    # Застосовуємо метод Кенні для виділення границь\n",
    "    kenny_edges = cv2.Canny(image_blur, min_threshold, max_threshold)\n",
    "    \n",
    "    # Візуалізація результату\n",
    "    plt.subplot(1, 4, plot_title)\n",
    "    plt.imshow(kenny_edges, cmap='gray')\n",
    "    plt.title(f'σ={sigma_param}\\nMin={min_threshold}, Max={max_threshold}')"
   ]
  },
  {
   "cell_type": "markdown",
   "metadata": {},
   "source": [
    "## Виконання завдань"
   ]
  },
  {
   "cell_type": "markdown",
   "metadata": {},
   "source": [
    "`1.` Обрати самостійно та відповідно обробити зображення для\n",
    "подальшого використання."
   ]
  },
  {
   "cell_type": "code",
   "execution_count": null,
   "metadata": {},
   "outputs": [],
   "source": [
    "# ініціалізація зображення\n",
    "img = load_image(0)\n",
    "show_image(img, 'Завантажене зображення у монохромі')"
   ]
  },
  {
   "cell_type": "markdown",
   "metadata": {},
   "source": [
    "`2.` Визначити межі зображення методами `Собеля`, `Прюітта`,\n",
    "`Робертса`, та за допомогою оператора `Лапласіана`. Навести\n",
    "результати роботи."
   ]
  },
  {
   "cell_type": "code",
   "execution_count": null,
   "metadata": {},
   "outputs": [],
   "source": [
    "# Метод Собеля\n",
    "\n",
    "# виділяємо горизонтальні границі\n",
    "sobel_x = cv2.Sobel(img, cv2.CV_64F, 1, 0, ksize=3)\n",
    "# виділяємо вертикальні границі\n",
    "sobel_y = cv2.Sobel(img, cv2.CV_64F, 0, 1, ksize=3)\n",
    "# Комбінуємо результати горизонтального та вертикального операторів Собеля\n",
    "sobel_combined = np.sqrt(sobel_x**2 + sobel_y**2)\n",
    "# Перетворюємо значення в беззнакові цілі числа для відображення\n",
    "sobel_combined_abs = cv2.convertScaleAbs(sobel_combined)\n",
    "\n",
    "show_method_result(sobel_combined_abs,'Метод Собеля')"
   ]
  },
  {
   "cell_type": "code",
   "execution_count": null,
   "metadata": {},
   "outputs": [],
   "source": [
    "# Метод Прюітта\n",
    "\n",
    "# Визначаємо ядро для горизонтального напрямку Прюїтта\n",
    "matrix_prewitt_x = np.array([[-1, 0, 1], [-1, 0, 1], [-1, 0, 1]])\n",
    "# Визначаємо ядро для вертикального  напрямку Прюїтта\n",
    "matrix_prewitt_y = np.array([[1, 1, 1], [0, 0, 0], [-1, -1, -1]])\n",
    "# Застосовуємо фільтр Прюїтта для горизонтального напрямку\n",
    "prewitt_x = cv2.filter2D(img, cv2.CV_64F, matrix_prewitt_x)\n",
    "# Застосовуємо фільтр Прюїтта для вертикального напрямку\n",
    "prewitt_y = cv2.filter2D(img, cv2.CV_64F, matrix_prewitt_y)\n",
    "# Комбінуємо результати горизонтального та вертикального фільтрів Прюїтта\n",
    "prewitt_combined = np.sqrt(prewitt_x**2 + prewitt_y**2)\n",
    "# Перетворюємо значення в беззнакові цілі числа для відображення\n",
    "prewitt_combined_int = np.uint8(prewitt_combined)\n",
    "\n",
    "show_method_result(prewitt_combined_int,'Метод Прюітта')"
   ]
  },
  {
   "cell_type": "code",
   "execution_count": null,
   "metadata": {},
   "outputs": [],
   "source": [
    "# Метод Робертса\n",
    "\n",
    "# Ядро горизонтального напрямку\n",
    "matrix_roberts_x = np.array([[0, -1], [1, 0]])\n",
    "# Ядро вертикального  напрямку\n",
    "matrix_roberts_y = np.array([[-1, 0], [0, 1]])\n",
    "# Застосовуємо фільтр Робертса для горизонтального напрямку\n",
    "roberts_x = cv2.filter2D(img, cv2.CV_64F, matrix_roberts_x)\n",
    "# Застосовуємо фільтр Робертса для вертикального напрямку\n",
    "roberts_y = cv2.filter2D(img, cv2.CV_64F, matrix_roberts_y)\n",
    "# Комбінуємо результати горизонтального та вертикального фільтрів Робертса\n",
    "roberts_combined = np.sqrt(roberts_x**2 + roberts_y**2)\n",
    "# Перетворюємо значення в беззнакові цілі числа для відображення\n",
    "roberts_combined_int = np.uint8(roberts_combined)\n",
    "\n",
    "show_method_result(roberts_combined_int,'Метод Робертса')\n"
   ]
  },
  {
   "cell_type": "code",
   "execution_count": null,
   "metadata": {},
   "outputs": [],
   "source": [
    "# Метод Лапласіана\n",
    "\n",
    "# Застосовуємо оператор Лапласіана до зображення\n",
    "laplacian = cv2.Laplacian(img, cv2.CV_64F)\n",
    "# Перетворюємо значення в беззнакові цілі числа та обираємо їх абсолютне значення для відображення\n",
    "laplacian_int = np.uint8(np.abs(laplacian))\n",
    "\n",
    "show_method_result(laplacian_int,'Метод Лапласіана')"
   ]
  },
  {
   "cell_type": "code",
   "execution_count": null,
   "metadata": {},
   "outputs": [],
   "source": [
    "# вивід всіх зображень одразу\n",
    "\n",
    "plt.figure(figsize=(15, 5))\n",
    "plt.subplot(1, 5, 1), plt.imshow(img, cmap='gray'), plt.title('Оригінальне')\n",
    "plt.subplot(1, 5, 2), plt.imshow(sobel_combined_abs, cmap='gray'), plt.title('Собель')\n",
    "plt.subplot(1, 5, 3), plt.imshow(prewitt_combined_int, cmap='gray'), plt.title('Прюітт')\n",
    "plt.subplot(1, 5, 4), plt.imshow(roberts_combined_int, cmap='gray'), plt.title('Робертс')\n",
    "plt.subplot(1, 5, 5), plt.imshow(laplacian_int, cmap='gray'), plt.title('Лапласіан')\n",
    "plt.show()"
   ]
  },
  {
   "cell_type": "markdown",
   "metadata": {},
   "source": [
    "`3.` Визначити межі зображення `методом Кенні` досліджуючи різні\n",
    "значення `σ` та параметри `гістерезису`. Відобразити результати."
   ]
  },
  {
   "cell_type": "code",
   "execution_count": null,
   "metadata": {},
   "outputs": [],
   "source": [
    "# Метод Кенні з різними парметрами σ та гістерезису\n",
    "plt.figure(figsize=(15, 5))\n",
    "\n",
    "kenny_method(img, 0.5, 50, 200, 1)\n",
    "kenny_method(img, 1, 20, 255, 2)\n",
    "kenny_method(img, 0.3, 10, 50, 3)\n",
    "kenny_method(img, 0.1, 20, 120, 4)\n",
    "\n",
    "plt.show()"
   ]
  },
  {
   "cell_type": "markdown",
   "metadata": {},
   "source": [
    "`4.` Отримані зображення оцінити візуально. Кожне зображення\n",
    "повинно отримати оцінку `від 1 до 10`, що визначає якість\n",
    "виділення меж."
   ]
  },
  {
   "cell_type": "markdown",
   "metadata": {},
   "source": [
    "- `Собель`: оцінка 10\n",
    "- `Пріюітт`: оцінка 8\n",
    "- `Робертс`: оцінка 5\n",
    "- `Лапласіан`: оцінка 5\n",
    "\n",
    "- `Кенні`: оцінка залежить від параметрів"
   ]
  }
 ],
 "metadata": {
  "kernelspec": {
   "display_name": "lab1-UbxxUX9k-py3.11",
   "language": "python",
   "name": "python3"
  },
  "language_info": {
   "codemirror_mode": {
    "name": "ipython",
    "version": 3
   },
   "file_extension": ".py",
   "mimetype": "text/x-python",
   "name": "python",
   "nbconvert_exporter": "python",
   "pygments_lexer": "ipython3",
   "version": "3.11.5"
  },
  "orig_nbformat": 4
 },
 "nbformat": 4,
 "nbformat_minor": 2
}
